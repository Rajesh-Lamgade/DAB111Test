{
 "cells": [
  {
   "cell_type": "markdown",
   "id": "3678d6f7-c677-4a9c-9367-c0b520e797bd",
   "metadata": {},
   "source": [
    "# Week 4a:  Basic I/O Methods"
   ]
  },
  {
   "cell_type": "markdown",
   "id": "54f275d7-926f-4bda-9b77-b60af6771f85",
   "metadata": {},
   "source": [
    "### Reading text files"
   ]
  },
  {
   "cell_type": "code",
   "execution_count": null,
   "id": "c74d1139-bb57-472b-adc4-6fb45f0bcd43",
   "metadata": {
    "tags": []
   },
   "outputs": [],
   "source": [
    "with open('some_text.txt') as f:  # file is closed automatically after execution or an error\n",
    "    text_str = f.read()\n",
    "\n",
    "type(text_str)"
   ]
  },
  {
   "cell_type": "code",
   "execution_count": null,
   "id": "de531e09-c54a-44b6-9ae9-eb4511cb19ef",
   "metadata": {
    "tags": []
   },
   "outputs": [],
   "source": [
    "with open('some_text.txt') as f: \n",
    "    text_ch = f.read(10)\n",
    "\n",
    "text_ch"
   ]
  },
  {
   "cell_type": "code",
   "execution_count": null,
   "id": "f752758f-5756-452b-9d8c-a1eac13a7d2b",
   "metadata": {
    "tags": []
   },
   "outputs": [],
   "source": [
    "with open('some_text.txt') as f:  \n",
    "    text_lst_2 = f.readlines()\n",
    "\n",
    "type(text_lst_2)"
   ]
  },
  {
   "cell_type": "code",
   "execution_count": null,
   "id": "ccec39db-09a5-48ea-b0e9-f5b5af3c4e22",
   "metadata": {},
   "outputs": [],
   "source": [
    "len(text_lst_2)"
   ]
  },
  {
   "cell_type": "code",
   "execution_count": null,
   "id": "368f2ba9-ab97-4ac9-9e98-40bf98fa0ccd",
   "metadata": {},
   "outputs": [],
   "source": [
    "text_lst_2[0]"
   ]
  },
  {
   "cell_type": "code",
   "execution_count": null,
   "id": "0060b5e0-e340-4a33-adb8-c65df768fc31",
   "metadata": {
    "tags": []
   },
   "outputs": [],
   "source": [
    "with open('some_text.txt') as f:  \n",
    "    text_lst_1 = list(f)\n",
    "\n",
    "text_lst_1"
   ]
  },
  {
   "cell_type": "code",
   "execution_count": null,
   "id": "6e42c4a1-b01f-4a1c-8e29-5947f6bfbb38",
   "metadata": {},
   "outputs": [],
   "source": [
    "text_lst_1 == text_lst_2"
   ]
  },
  {
   "cell_type": "code",
   "execution_count": null,
   "id": "54c9aa43-1f37-4442-a208-056e2b735fa2",
   "metadata": {
    "tags": []
   },
   "outputs": [],
   "source": [
    "with open('demo.txt') as f:\n",
    "    text_ml = f.read()\n",
    "    \n",
    "type(text_ml)"
   ]
  },
  {
   "cell_type": "code",
   "execution_count": null,
   "id": "0e93bf90-099d-49e7-a30f-e7892b0c9b70",
   "metadata": {},
   "outputs": [],
   "source": []
  },
  {
   "cell_type": "code",
   "execution_count": null,
   "id": "e78bdbf9-3e63-44f2-bf8f-167e3d1821eb",
   "metadata": {
    "tags": []
   },
   "outputs": [],
   "source": [
    "with open('demo.txt') as f:\n",
    "    for line in f:\n",
    "        print(line)"
   ]
  },
  {
   "cell_type": "markdown",
   "id": "0244eea1-318a-447d-9d2b-aba8664e3f7f",
   "metadata": {
    "tags": []
   },
   "source": [
    "### Writing text files"
   ]
  },
  {
   "cell_type": "code",
   "execution_count": null,
   "id": "4da56e70-215f-4501-aca7-35a90e7a292c",
   "metadata": {
    "tags": []
   },
   "outputs": [],
   "source": [
    "# create 'new_text.txt' from `text_str` above\n",
    "# make sure all text is lowercase\n",
    "# and all punctuation is removed\n",
    "# store in variable named 'new_text'"
   ]
  },
  {
   "cell_type": "code",
   "execution_count": null,
   "id": "48217fd5-7531-4ce6-8b64-fd80fd83a14b",
   "metadata": {},
   "outputs": [],
   "source": [
    "import string\n",
    "\n",
    "punct = string.punctuation\n",
    "punct"
   ]
  },
  {
   "cell_type": "code",
   "execution_count": null,
   "id": "556cb743-54e9-4eef-8991-e11e5cbf737f",
   "metadata": {},
   "outputs": [],
   "source": [
    "new_text = text_str.lower()\n",
    "    "
   ]
  },
  {
   "cell_type": "code",
   "execution_count": null,
   "id": "6a0a66d0-2e1b-43da-a487-6fdd74aad4b0",
   "metadata": {},
   "outputs": [],
   "source": [
    "empty_string =''\n",
    "\n",
    "#loop over all characters\n",
    "for ch in new_text:\n",
    "    #check if character is NOT punctuation\n",
    "    if ch not in punct:\n",
    "        # if not puctuation add to string\n",
    "        empty_string = empty_string + ch\n",
    "        \n",
    "        \n",
    "print(empty_string)"
   ]
  },
  {
   "cell_type": "code",
   "execution_count": null,
   "id": "ab2447d1-14fa-4a67-ae78-e3b0d9ce436e",
   "metadata": {
    "tags": []
   },
   "outputs": [],
   "source": [
    "with open(\"empty_text.txt\", 'w') as f:\n",
    "    f.write(empty_string)"
   ]
  },
  {
   "cell_type": "code",
   "execution_count": null,
   "id": "499b2dda-5c49-4f57-a624-ddaaa04fba6a",
   "metadata": {},
   "outputs": [],
   "source": [
    "## search and learn   ''.join(ch for in new_text if ch not in punct)"
   ]
  },
  {
   "cell_type": "code",
   "execution_count": null,
   "id": "ba450446-8881-46d2-9d12-68854d5dac49",
   "metadata": {},
   "outputs": [],
   "source": [
    "# create 'newer_text' similar to above \n",
    "# but each sentence is an element of a list"
   ]
  },
  {
   "cell_type": "code",
   "execution_count": null,
   "id": "1755101d-570a-492b-bad7-d53dbae9db9e",
   "metadata": {},
   "outputs": [],
   "source": [
    "#%%timeit to check the processing time of a code\n",
    "\n",
    "text_lower = text_str.lower()\n",
    "text_split = text_lower.split('.')\n",
    "\n",
    "newer_text = []\n",
    "for s in text_split:\n",
    "    new_s = ''.join (ch for ch in s if ch not in punct)\n",
    "    newer_text.append(new_s)\n",
    "    \n",
    "newer_text"
   ]
  },
  {
   "cell_type": "code",
   "execution_count": null,
   "id": "a6af91d0-91ed-47b4-a3e2-f2de511fd37e",
   "metadata": {},
   "outputs": [],
   "source": []
  },
  {
   "cell_type": "code",
   "execution_count": null,
   "id": "f046f298-d101-4005-8d56-8bac4c5cd2c5",
   "metadata": {
    "tags": []
   },
   "outputs": [],
   "source": [
    "with open(\"newer_text.txt\", 'w') as f:\n",
    "    f.writelines(t)"
   ]
  },
  {
   "cell_type": "code",
   "execution_count": null,
   "id": "a2e83c37-8105-4528-8012-9e7b3a44df3e",
   "metadata": {},
   "outputs": [],
   "source": [
    "\"\"\"\n",
    "''\n",
    "loop\n",
    "    check\n",
    "    add string\n",
    "    \n",
    "[]\n",
    " loop\n",
    "     check\n",
    "     add string\n",
    "\"\"\""
   ]
  },
  {
   "cell_type": "markdown",
   "id": "c857532d-0e8c-45f7-a693-f8e52f2d5240",
   "metadata": {},
   "source": [
    "### Reading csv files"
   ]
  },
  {
   "cell_type": "markdown",
   "id": "97dd0a54-d814-49a5-943c-3136cda85ca3",
   "metadata": {},
   "source": [
    "#### As text file"
   ]
  },
  {
   "cell_type": "code",
   "execution_count": null,
   "id": "e1a92839-db85-498d-a1e7-9cb95270282e",
   "metadata": {
    "tags": []
   },
   "outputs": [],
   "source": [
    "with open('rent-ideal.csv') as f:\n",
    "    data = f.read()\n",
    "    \n",
    "data"
   ]
  },
  {
   "cell_type": "code",
   "execution_count": null,
   "id": "b632fe1d-f6b0-401a-b813-f0d4e525b330",
   "metadata": {},
   "outputs": [],
   "source": []
  },
  {
   "cell_type": "code",
   "execution_count": null,
   "id": "7605064f-6949-48bc-9652-af33ae8d8bd4",
   "metadata": {},
   "outputs": [],
   "source": []
  },
  {
   "cell_type": "code",
   "execution_count": null,
   "id": "41c3fb6e-b812-48f3-9e92-4d017608664e",
   "metadata": {},
   "outputs": [],
   "source": [
    "# manipulate data string above to get a list\n",
    "# then turn each element in the list into a list"
   ]
  },
  {
   "cell_type": "code",
   "execution_count": null,
   "id": "f2925b16-8024-4c98-95e5-48337a1a52c7",
   "metadata": {},
   "outputs": [],
   "source": [
    "apts = data.split('\\n')\n",
    "all_apts= []\n",
    "\n",
    "for a in apts:\n",
    "    a_lst = a.split(',')\n",
    "    all_apts.append(a_lst)"
   ]
  },
  {
   "cell_type": "code",
   "execution_count": null,
   "id": "ff83da00-952c-4f03-b032-d13ba73c3dc8",
   "metadata": {},
   "outputs": [],
   "source": [
    "all_apts"
   ]
  },
  {
   "cell_type": "code",
   "execution_count": null,
   "id": "d8500f74-f117-4a30-9564-d6ec240c4cf8",
   "metadata": {},
   "outputs": [],
   "source": []
  },
  {
   "cell_type": "code",
   "execution_count": null,
   "id": "d964980d-0092-44c8-91fe-64abd76f94aa",
   "metadata": {},
   "outputs": [],
   "source": []
  },
  {
   "cell_type": "code",
   "execution_count": null,
   "id": "f4a86d09-ac57-487e-a842-c698e4cb5eaa",
   "metadata": {},
   "outputs": [],
   "source": []
  },
  {
   "cell_type": "markdown",
   "id": "40be6edc-6e11-4d05-a2bb-961600a83384",
   "metadata": {},
   "source": [
    "#### As text file: line by line"
   ]
  },
  {
   "cell_type": "code",
   "execution_count": null,
   "id": "f29eade1-49aa-455e-a80d-99414bfba53d",
   "metadata": {
    "tags": []
   },
   "outputs": [],
   "source": [
    "with open('rent-ideal.csv') as f:\n",
    "    data = f.readlines()\n",
    "    \n",
    "data"
   ]
  },
  {
   "cell_type": "code",
   "execution_count": null,
   "id": "8b8f5169-eb3b-47ca-9aff-d9a09e223557",
   "metadata": {
    "tags": []
   },
   "outputs": [],
   "source": []
  },
  {
   "cell_type": "code",
   "execution_count": null,
   "id": "e6f04d72-81b5-4769-b88c-1c01b786f371",
   "metadata": {},
   "outputs": [],
   "source": [
    "# now create a list of lists from 'data'\n",
    "# but make sure you remove the newline character from each string first"
   ]
  },
  {
   "cell_type": "code",
   "execution_count": null,
   "id": "80a18fd4-b524-4a1e-8dda-495273bf75ad",
   "metadata": {},
   "outputs": [],
   "source": []
  },
  {
   "cell_type": "markdown",
   "id": "044db3fd-0718-4cd9-845e-36b6d7f0f063",
   "metadata": {},
   "source": [
    "### As csv file: list of lists"
   ]
  },
  {
   "cell_type": "code",
   "execution_count": null,
   "id": "54572c45-dccd-438f-9e79-90e5bcbfd2a4",
   "metadata": {
    "tags": []
   },
   "outputs": [],
   "source": [
    "import csv\n",
    "\n",
    "with open('rent-ideal.csv') as f:\n",
    "    csv_reader = csv.reader(f, delimiter=',')\n",
    "    for row in csv_reader:\n",
    "        print(row)"
   ]
  },
  {
   "cell_type": "code",
   "execution_count": null,
   "id": "251f984b-2b58-4bf6-8763-f92e2f89ed84",
   "metadata": {},
   "outputs": [],
   "source": [
    "# using above loop build an apartments dictionary\n",
    "# name apartments 'apt_1' etc with each apartment stored as a dictionary"
   ]
  },
  {
   "cell_type": "code",
   "execution_count": null,
   "id": "2b066dd3-425e-46bd-8527-35b3c048c69c",
   "metadata": {},
   "outputs": [],
   "source": [
    "import csv\n",
    "\n",
    "apts = {}\n",
    "\n",
    "with open ('rent-ideal.csv') as f:\n",
    "    csv_reader = csv.reader(f, delimiter=',')\n",
    "    idx = 0\n",
    "    for row in csv_reader: \n",
    "        if idx!=0:\n",
    "            k = 'apt_' + str(idx)\n",
    "            v = row \n",
    "            apts[k] = v   \n",
    "        idx += 1 #same as idx = idx + 1\n",
    "apts\n",
    "    \n",
    "\n"
   ]
  },
  {
   "cell_type": "code",
   "execution_count": null,
   "id": "eabdacb6-79d4-4598-b631-acff7c6b0a8b",
   "metadata": {},
   "outputs": [],
   "source": []
  },
  {
   "cell_type": "code",
   "execution_count": null,
   "id": "6b62e173-272d-4a66-9f18-583ebdfacbbd",
   "metadata": {},
   "outputs": [],
   "source": []
  },
  {
   "cell_type": "code",
   "execution_count": null,
   "id": "4722b597-9bd5-4dad-a505-34f286ac0a53",
   "metadata": {},
   "outputs": [],
   "source": []
  },
  {
   "cell_type": "markdown",
   "id": "fe0265a2-9146-4b7c-88dc-73b8121caae8",
   "metadata": {},
   "source": [
    "### As csv file: list of dictionaries"
   ]
  },
  {
   "cell_type": "code",
   "execution_count": null,
   "id": "b6f64dfe-0653-47a0-ae63-b80122f341f2",
   "metadata": {
    "tags": []
   },
   "outputs": [],
   "source": [
    "import csv # not needed as we have already imported; here only for completeness\n",
    "\n",
    "with open('rent-ideal.csv') as f:\n",
    "    reader = csv.DictReader(f, delimiter=',')\n",
    "    for row in reader:\n",
    "        print(row)"
   ]
  },
  {
   "cell_type": "code",
   "execution_count": null,
   "id": "8e5e4b6f-3fa7-4f7f-afb8-1fa5a11e6e64",
   "metadata": {
    "tags": []
   },
   "outputs": [],
   "source": [
    "# using above loop create a list of dictionaries\n"
   ]
  },
  {
   "cell_type": "code",
   "execution_count": null,
   "id": "2bb34ca4-f023-4655-afba-5f3eb7b877e4",
   "metadata": {},
   "outputs": [],
   "source": []
  },
  {
   "cell_type": "markdown",
   "id": "1811da81-2475-4b0b-9f7b-f9fb2c57ebc1",
   "metadata": {},
   "source": [
    "### Writing csv files"
   ]
  },
  {
   "cell_type": "code",
   "execution_count": null,
   "id": "deec9a9c-8246-4663-b37b-5915e3426a96",
   "metadata": {
    "tags": []
   },
   "outputs": [],
   "source": [
    "header = rent[0]\n",
    "rent = rent[:20]\n",
    "\n",
    "filename = \"short_rent.csv\"\n",
    "\n",
    "with open(filename, 'w') as f:\n",
    "    csv_writer = csv.writer(f)\n",
    "    csv_writer.writerow(variables)\n",
    "    csv_writer.writerows(rent[1:])"
   ]
  },
  {
   "cell_type": "code",
   "execution_count": null,
   "id": "4445a5cd-a916-4527-a1d1-ac28a8a9000e",
   "metadata": {},
   "outputs": [],
   "source": []
  },
  {
   "cell_type": "code",
   "execution_count": null,
   "id": "a94731e9-5df2-4d95-a544-3cea83f35588",
   "metadata": {},
   "outputs": [],
   "source": []
  },
  {
   "cell_type": "code",
   "execution_count": null,
   "id": "7039ddc1-b86c-4bb7-b756-9282cbeee911",
   "metadata": {},
   "outputs": [],
   "source": []
  },
  {
   "cell_type": "code",
   "execution_count": null,
   "id": "0085b724-b554-49d3-9ea8-a07982fd9d8b",
   "metadata": {
    "tags": []
   },
   "outputs": [],
   "source": [
    "variables = ['bedrooms', 'bathrooms', 'latitude', 'longitude', 'price']\n",
    "\n",
    "filename = \"short_rent_d.csv\"\n",
    "\n",
    "with open(filename, 'w') as f:\n",
    "    csv_writer = csv.DictWriter(f, fieldnames=variables)\n",
    "    csv_writer.writeheader()\n",
    "    csv_writer.writerows(rent_d)"
   ]
  },
  {
   "cell_type": "code",
   "execution_count": null,
   "id": "7a7b0c89-f026-4362-9505-d6aaacc1b66b",
   "metadata": {},
   "outputs": [],
   "source": []
  },
  {
   "cell_type": "markdown",
   "id": "be1a0cbb-bf75-42cc-8052-ce760f3f3f78",
   "metadata": {},
   "source": [
    "### Reading json files"
   ]
  },
  {
   "cell_type": "code",
   "execution_count": null,
   "id": "3448716a-f70e-443d-b67c-106018a1e7c3",
   "metadata": {
    "tags": []
   },
   "outputs": [],
   "source": [
    "import json\n",
    "\n",
    "with open('example.json') as f:\n",
    "    data = json.load(f)"
   ]
  },
  {
   "cell_type": "code",
   "execution_count": 28,
   "id": "08d3f440-dc02-47fa-90fa-f1036b2c6a3d",
   "metadata": {
    "tags": []
   },
   "outputs": [
    {
     "data": {
      "text/plain": [
       "{'geo_bounds': {'circle': {'center': {'latitude': 42.31898,\n",
       "    'longitude': -83.04049},\n",
       "   'radius': 22000}}}"
      ]
     },
     "execution_count": 28,
     "metadata": {},
     "output_type": "execute_result"
    }
   ],
   "source": [
    "#data['context']['geo_bounds'] ['circle'] ['center'] ['latitude']\n",
    "data['context']"
   ]
  },
  {
   "cell_type": "code",
   "execution_count": null,
   "id": "97d2c187-73f9-4c2a-b2d2-058ffcaf6b9c",
   "metadata": {
    "tags": []
   },
   "outputs": [],
   "source": [
    "# explore the structure of 'data'\n",
    "# from 'results' create a dictionary where the key is the name of the place \n",
    "# and the value is latitude and longitude as a list\n",
    "# save the result in a variable called 'places'"
   ]
  },
  {
   "cell_type": "code",
   "execution_count": 52,
   "id": "f396f374-f7af-4dc5-9b06-9be3237eea6b",
   "metadata": {},
   "outputs": [
    {
     "data": {
      "text/plain": [
       "{'Windsor Riverwalk': [42.319583, -83.042261],\n",
       " 'Avalon Cafe and Bakery': [42.332509, -83.047829],\n",
       " 'Standby': [42.334481, -83.046019],\n",
       " 'Cannelle Matt Knio': [42.333679, -83.049382],\n",
       " 'John K King Books': [42.32748, -83.056976],\n",
       " 'William G. Milliken State Park and Harbor': [42.333175, -83.025757],\n",
       " 'Wright & Co.': [42.335206, -83.049152],\n",
       " \"Mudgie's\": [42.329002, -83.062029],\n",
       " 'Batch Brewing Company': [42.328526, -83.063374],\n",
       " 'Beacon Park': [42.334526, -83.055049]}"
      ]
     },
     "execution_count": 52,
     "metadata": {},
     "output_type": "execute_result"
    }
   ],
   "source": [
    "places = {}\n",
    "\n",
    "for p in data['results']:\n",
    "    k = p['name']\n",
    "    lat = p['geocodes'] ['main'] ['latitude']\n",
    "    long = p['geocodes'] ['main'] ['longitude']\n",
    "    v = [lat, long]\n",
    "    places[k] = v\n",
    "\n",
    "places"
   ]
  },
  {
   "cell_type": "code",
   "execution_count": null,
   "id": "1c6ab3b0-056d-4b0b-96d4-fa1be2e400d4",
   "metadata": {},
   "outputs": [],
   "source": []
  },
  {
   "cell_type": "code",
   "execution_count": 40,
   "id": "d1c9e42e-ca83-46cc-8731-7e04552ce351",
   "metadata": {},
   "outputs": [
    {
     "data": {
      "text/plain": [
       "'Windsor Riverwalk'"
      ]
     },
     "execution_count": 40,
     "metadata": {},
     "output_type": "execute_result"
    }
   ],
   "source": [
    "data['results'] [0] ['name']"
   ]
  },
  {
   "cell_type": "code",
   "execution_count": 42,
   "id": "38886d09-2d8e-4cc9-aaf7-9c92ae74b82b",
   "metadata": {},
   "outputs": [
    {
     "data": {
      "text/plain": [
       "42.319583"
      ]
     },
     "execution_count": 42,
     "metadata": {},
     "output_type": "execute_result"
    }
   ],
   "source": [
    "data['results'] [0] ['geocodes'] ['main'] ['latitude']"
   ]
  },
  {
   "cell_type": "code",
   "execution_count": 43,
   "id": "aaa78a78-5364-4c76-927a-034a857f38d0",
   "metadata": {},
   "outputs": [
    {
     "data": {
      "text/plain": [
       "-83.042261"
      ]
     },
     "execution_count": 43,
     "metadata": {},
     "output_type": "execute_result"
    }
   ],
   "source": [
    "data['results'] [0] ['geocodes'] ['main'] ['longitude']"
   ]
  },
  {
   "cell_type": "code",
   "execution_count": null,
   "id": "2e1491fc-f49a-48d9-88b3-4afd47c12124",
   "metadata": {},
   "outputs": [],
   "source": []
  },
  {
   "cell_type": "markdown",
   "id": "62a9798c-0acb-4e54-a74e-c37dc6567172",
   "metadata": {},
   "source": [
    "### Writing json files"
   ]
  },
  {
   "cell_type": "code",
   "execution_count": 53,
   "id": "76157ce3-e4e0-4adf-bc84-064eba4b619a",
   "metadata": {
    "tags": []
   },
   "outputs": [],
   "source": [
    "with open('places.json', 'w') as f:\n",
    "    json.dump(places, f)"
   ]
  },
  {
   "cell_type": "code",
   "execution_count": null,
   "id": "f34fabcc-7dac-4974-ac34-d697cb7710be",
   "metadata": {},
   "outputs": [],
   "source": []
  },
  {
   "cell_type": "markdown",
   "id": "d1b5bb29-698a-4466-b904-b2a06e71f9d8",
   "metadata": {},
   "source": [
    "### Exploring `pathlib`"
   ]
  },
  {
   "cell_type": "code",
   "execution_count": 54,
   "id": "0c93e465-7960-4ff4-b9b8-6d39a1c5ad84",
   "metadata": {
    "tags": []
   },
   "outputs": [],
   "source": [
    "from pathlib import Path"
   ]
  },
  {
   "cell_type": "code",
   "execution_count": 55,
   "id": "93cbe0d6-b384-4d66-9478-80774c8546a1",
   "metadata": {
    "tags": []
   },
   "outputs": [
    {
     "data": {
      "text/plain": [
       "WindowsPath('C:/Users/samra/Desktop/Sem 1/Python/Week_4a')"
      ]
     },
     "execution_count": 55,
     "metadata": {},
     "output_type": "execute_result"
    }
   ],
   "source": [
    "path = Path().cwd()\n",
    "path"
   ]
  },
  {
   "cell_type": "code",
   "execution_count": 56,
   "id": "536b9440-0fa5-45d0-be7b-83dc2c797547",
   "metadata": {
    "tags": []
   },
   "outputs": [
    {
     "name": "stdout",
     "output_type": "stream",
     "text": [
      ".ipynb_checkpoints \t .ipynb_checkpoints \t \n",
      "demo.txt \t demo \t .txt\n",
      "example.json \t example \t .json\n",
      "places.json \t places \t .json\n",
      "rent-ideal.csv \t rent-ideal \t .csv\n",
      "some_text.txt \t some_text \t .txt\n",
      "Week_4a.ipynb \t Week_4a \t .ipynb\n"
     ]
    }
   ],
   "source": [
    "for item in path.iterdir():\n",
    "    print(f\"{item.name} \\t {item.stem} \\t {item.suffix}\")"
   ]
  },
  {
   "cell_type": "code",
   "execution_count": 57,
   "id": "f224e5a1-0128-4408-a91f-2eee38d6fe4b",
   "metadata": {
    "tags": []
   },
   "outputs": [
    {
     "data": {
      "text/plain": [
       "WindowsPath('C:/Users/samra/Desktop/Sem 1/Python/Week_4a/Images')"
      ]
     },
     "execution_count": 57,
     "metadata": {},
     "output_type": "execute_result"
    }
   ],
   "source": [
    "dest_path = path / 'Images'\n",
    "dest_path"
   ]
  },
  {
   "cell_type": "code",
   "execution_count": 58,
   "id": "e157f404-4767-4695-a140-594bb1f8303c",
   "metadata": {
    "tags": []
   },
   "outputs": [
    {
     "data": {
      "text/plain": [
       "WindowsPath('C:/Users/MCASSAR/Documents/GitHub/DAB300-W23/Course_Material/Week 7')"
      ]
     },
     "execution_count": 58,
     "metadata": {},
     "output_type": "execute_result"
    }
   ],
   "source": [
    "new_path = Path(r\"C:\\Users\\MCASSAR\\Documents\\GitHub\\DAB300-W23\\Course_Material\\Week 7\")\n",
    "new_path"
   ]
  },
  {
   "cell_type": "code",
   "execution_count": 59,
   "id": "0c0a1317-1d3a-42e0-8a02-ecadac31f983",
   "metadata": {
    "tags": []
   },
   "outputs": [
    {
     "ename": "SyntaxError",
     "evalue": "invalid syntax (<ipython-input-59-f5ec0b534000>, line 1)",
     "output_type": "error",
     "traceback": [
      "\u001b[1;36m  File \u001b[1;32m\"<ipython-input-59-f5ec0b534000>\"\u001b[1;36m, line \u001b[1;32m1\u001b[0m\n\u001b[1;33m    for ...: # loop over items in the directory\u001b[0m\n\u001b[1;37m           ^\u001b[0m\n\u001b[1;31mSyntaxError\u001b[0m\u001b[1;31m:\u001b[0m invalid syntax\n"
     ]
    }
   ],
   "source": [
    "for ...: # loop over items in the directory\n",
    "    # check if item is a file \n",
    "    # if it is\n",
    "        # check if it is the correct file type\n",
    "            #\n",
    "    continue"
   ]
  },
  {
   "cell_type": "code",
   "execution_count": 60,
   "id": "d6f9315c-dab2-441e-b6a5-906e26744201",
   "metadata": {},
   "outputs": [],
   "source": [
    "# complete the above loop so it captures the filenames of one file type\n",
    "# and stores the names in a list"
   ]
  },
  {
   "cell_type": "code",
   "execution_count": null,
   "id": "f148e3a7-9415-4029-9a32-099688838225",
   "metadata": {
    "tags": []
   },
   "outputs": [],
   "source": []
  },
  {
   "cell_type": "code",
   "execution_count": null,
   "id": "b6ab832b-fe0b-4282-a8e9-db610957192c",
   "metadata": {},
   "outputs": [],
   "source": [
    "# now modify the loop so that it also checks subdirectories for files\n",
    "# of the same file type"
   ]
  },
  {
   "cell_type": "code",
   "execution_count": null,
   "id": "9a73c326-1cfc-4ca0-989b-cfa10e811646",
   "metadata": {
    "tags": []
   },
   "outputs": [],
   "source": []
  },
  {
   "cell_type": "code",
   "execution_count": null,
   "id": "fb4aa67a-24ca-4e5c-9df1-6eefeb9a5a4a",
   "metadata": {},
   "outputs": [],
   "source": [
    "# now use the ?????? method to do the same thing"
   ]
  }
 ],
 "metadata": {
  "kernelspec": {
   "display_name": "Python 3",
   "language": "python",
   "name": "python3"
  },
  "language_info": {
   "codemirror_mode": {
    "name": "ipython",
    "version": 3
   },
   "file_extension": ".py",
   "mimetype": "text/x-python",
   "name": "python",
   "nbconvert_exporter": "python",
   "pygments_lexer": "ipython3",
   "version": "3.8.8"
  }
 },
 "nbformat": 4,
 "nbformat_minor": 5
}
